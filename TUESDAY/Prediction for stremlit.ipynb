{
 "cells": [
  {
   "cell_type": "code",
   "execution_count": 55,
   "id": "32cb24f7",
   "metadata": {},
   "outputs": [],
   "source": [
    "import yfinance as yf"
   ]
  },
  {
   "cell_type": "code",
   "execution_count": 56,
   "id": "4e4514b9",
   "metadata": {},
   "outputs": [
    {
     "name": "stdout",
     "output_type": "stream",
     "text": [
      "Please enter the correct ticker name of the stock:TCS.NS\n"
     ]
    }
   ],
   "source": [
    "#user_input\n",
    "stock_symbol=str(input(\"Please enter the correct ticker name of the stock:\"))"
   ]
  },
  {
   "cell_type": "code",
   "execution_count": 57,
   "id": "81355b59",
   "metadata": {},
   "outputs": [
    {
     "name": "stdout",
     "output_type": "stream",
     "text": [
      "TCS.NS\n"
     ]
    }
   ],
   "source": [
    "print(stock_symbol)"
   ]
  },
  {
   "cell_type": "code",
   "execution_count": 58,
   "id": "3ef56b4b",
   "metadata": {},
   "outputs": [
    {
     "name": "stdout",
     "output_type": "stream",
     "text": [
      "[*********************100%***********************]  1 of 1 completed\n"
     ]
    }
   ],
   "source": [
    "#last 5 years data with interval of 1 day\n",
    "data = yf.download(tickers=stock_symbol,period='5y',interval='1d')"
   ]
  },
  {
   "cell_type": "code",
   "execution_count": 59,
   "id": "fc8110f5",
   "metadata": {},
   "outputs": [
    {
     "data": {
      "text/plain": [
       "pandas.core.frame.DataFrame"
      ]
     },
     "execution_count": 59,
     "metadata": {},
     "output_type": "execute_result"
    }
   ],
   "source": [
    "type(data)"
   ]
  },
  {
   "cell_type": "code",
   "execution_count": 60,
   "id": "760b6c32",
   "metadata": {},
   "outputs": [
    {
     "data": {
      "text/html": [
       "<div>\n",
       "<style scoped>\n",
       "    .dataframe tbody tr th:only-of-type {\n",
       "        vertical-align: middle;\n",
       "    }\n",
       "\n",
       "    .dataframe tbody tr th {\n",
       "        vertical-align: top;\n",
       "    }\n",
       "\n",
       "    .dataframe thead th {\n",
       "        text-align: right;\n",
       "    }\n",
       "</style>\n",
       "<table border=\"1\" class=\"dataframe\">\n",
       "  <thead>\n",
       "    <tr style=\"text-align: right;\">\n",
       "      <th></th>\n",
       "      <th>Open</th>\n",
       "      <th>High</th>\n",
       "      <th>Low</th>\n",
       "      <th>Close</th>\n",
       "      <th>Adj Close</th>\n",
       "      <th>Volume</th>\n",
       "    </tr>\n",
       "    <tr>\n",
       "      <th>Date</th>\n",
       "      <th></th>\n",
       "      <th></th>\n",
       "      <th></th>\n",
       "      <th></th>\n",
       "      <th></th>\n",
       "      <th></th>\n",
       "    </tr>\n",
       "  </thead>\n",
       "  <tbody>\n",
       "    <tr>\n",
       "      <th>2017-05-25</th>\n",
       "      <td>1288.5</td>\n",
       "      <td>1318.775024</td>\n",
       "      <td>1284.000000</td>\n",
       "      <td>1312.300049</td>\n",
       "      <td>1185.019897</td>\n",
       "      <td>4094094.0</td>\n",
       "    </tr>\n",
       "    <tr>\n",
       "      <th>2017-05-26</th>\n",
       "      <td>1312.5</td>\n",
       "      <td>1313.425049</td>\n",
       "      <td>1282.324951</td>\n",
       "      <td>1289.125000</td>\n",
       "      <td>1164.092285</td>\n",
       "      <td>1362550.0</td>\n",
       "    </tr>\n",
       "    <tr>\n",
       "      <th>2017-05-29</th>\n",
       "      <td>1289.5</td>\n",
       "      <td>1298.250000</td>\n",
       "      <td>1282.000000</td>\n",
       "      <td>1286.425049</td>\n",
       "      <td>1161.654419</td>\n",
       "      <td>1749290.0</td>\n",
       "    </tr>\n",
       "    <tr>\n",
       "      <th>2017-05-30</th>\n",
       "      <td>1280.0</td>\n",
       "      <td>1287.974976</td>\n",
       "      <td>1262.500000</td>\n",
       "      <td>1275.550049</td>\n",
       "      <td>1151.834106</td>\n",
       "      <td>927634.0</td>\n",
       "    </tr>\n",
       "    <tr>\n",
       "      <th>2017-05-31</th>\n",
       "      <td>1266.5</td>\n",
       "      <td>1286.250000</td>\n",
       "      <td>1264.000000</td>\n",
       "      <td>1273.300049</td>\n",
       "      <td>1149.802612</td>\n",
       "      <td>2502730.0</td>\n",
       "    </tr>\n",
       "  </tbody>\n",
       "</table>\n",
       "</div>"
      ],
      "text/plain": [
       "              Open         High          Low        Close    Adj Close  \\\n",
       "Date                                                                     \n",
       "2017-05-25  1288.5  1318.775024  1284.000000  1312.300049  1185.019897   \n",
       "2017-05-26  1312.5  1313.425049  1282.324951  1289.125000  1164.092285   \n",
       "2017-05-29  1289.5  1298.250000  1282.000000  1286.425049  1161.654419   \n",
       "2017-05-30  1280.0  1287.974976  1262.500000  1275.550049  1151.834106   \n",
       "2017-05-31  1266.5  1286.250000  1264.000000  1273.300049  1149.802612   \n",
       "\n",
       "               Volume  \n",
       "Date                   \n",
       "2017-05-25  4094094.0  \n",
       "2017-05-26  1362550.0  \n",
       "2017-05-29  1749290.0  \n",
       "2017-05-30   927634.0  \n",
       "2017-05-31  2502730.0  "
      ]
     },
     "execution_count": 60,
     "metadata": {},
     "output_type": "execute_result"
    }
   ],
   "source": [
    "data.head()"
   ]
  },
  {
   "cell_type": "code",
   "execution_count": 61,
   "id": "99beb000",
   "metadata": {},
   "outputs": [
    {
     "data": {
      "text/html": [
       "<div>\n",
       "<style scoped>\n",
       "    .dataframe tbody tr th:only-of-type {\n",
       "        vertical-align: middle;\n",
       "    }\n",
       "\n",
       "    .dataframe tbody tr th {\n",
       "        vertical-align: top;\n",
       "    }\n",
       "\n",
       "    .dataframe thead th {\n",
       "        text-align: right;\n",
       "    }\n",
       "</style>\n",
       "<table border=\"1\" class=\"dataframe\">\n",
       "  <thead>\n",
       "    <tr style=\"text-align: right;\">\n",
       "      <th></th>\n",
       "      <th>Open</th>\n",
       "      <th>High</th>\n",
       "      <th>Low</th>\n",
       "      <th>Close</th>\n",
       "      <th>Adj Close</th>\n",
       "      <th>Volume</th>\n",
       "    </tr>\n",
       "    <tr>\n",
       "      <th>Date</th>\n",
       "      <th></th>\n",
       "      <th></th>\n",
       "      <th></th>\n",
       "      <th></th>\n",
       "      <th></th>\n",
       "      <th></th>\n",
       "    </tr>\n",
       "  </thead>\n",
       "  <tbody>\n",
       "    <tr>\n",
       "      <th>2022-05-19</th>\n",
       "      <td>3397.000000</td>\n",
       "      <td>3405.000000</td>\n",
       "      <td>3230.000000</td>\n",
       "      <td>3261.949951</td>\n",
       "      <td>3240.124268</td>\n",
       "      <td>4642963.0</td>\n",
       "    </tr>\n",
       "    <tr>\n",
       "      <th>2022-05-20</th>\n",
       "      <td>3310.000000</td>\n",
       "      <td>3313.899902</td>\n",
       "      <td>3270.050049</td>\n",
       "      <td>3293.000000</td>\n",
       "      <td>3270.966553</td>\n",
       "      <td>3065125.0</td>\n",
       "    </tr>\n",
       "    <tr>\n",
       "      <th>2022-05-23</th>\n",
       "      <td>3304.800049</td>\n",
       "      <td>3338.899902</td>\n",
       "      <td>3267.000000</td>\n",
       "      <td>3321.750000</td>\n",
       "      <td>3299.524170</td>\n",
       "      <td>2293690.0</td>\n",
       "    </tr>\n",
       "    <tr>\n",
       "      <th>2022-05-24</th>\n",
       "      <td>3315.149902</td>\n",
       "      <td>3324.850098</td>\n",
       "      <td>3275.600098</td>\n",
       "      <td>3288.000000</td>\n",
       "      <td>3266.000000</td>\n",
       "      <td>1711510.0</td>\n",
       "    </tr>\n",
       "    <tr>\n",
       "      <th>2022-05-25</th>\n",
       "      <td>NaN</td>\n",
       "      <td>NaN</td>\n",
       "      <td>NaN</td>\n",
       "      <td>NaN</td>\n",
       "      <td>NaN</td>\n",
       "      <td>NaN</td>\n",
       "    </tr>\n",
       "  </tbody>\n",
       "</table>\n",
       "</div>"
      ],
      "text/plain": [
       "                   Open         High          Low        Close    Adj Close  \\\n",
       "Date                                                                          \n",
       "2022-05-19  3397.000000  3405.000000  3230.000000  3261.949951  3240.124268   \n",
       "2022-05-20  3310.000000  3313.899902  3270.050049  3293.000000  3270.966553   \n",
       "2022-05-23  3304.800049  3338.899902  3267.000000  3321.750000  3299.524170   \n",
       "2022-05-24  3315.149902  3324.850098  3275.600098  3288.000000  3266.000000   \n",
       "2022-05-25          NaN          NaN          NaN          NaN          NaN   \n",
       "\n",
       "               Volume  \n",
       "Date                   \n",
       "2022-05-19  4642963.0  \n",
       "2022-05-20  3065125.0  \n",
       "2022-05-23  2293690.0  \n",
       "2022-05-24  1711510.0  \n",
       "2022-05-25        NaN  "
      ]
     },
     "execution_count": 61,
     "metadata": {},
     "output_type": "execute_result"
    }
   ],
   "source": [
    "data.tail()"
   ]
  },
  {
   "cell_type": "code",
   "execution_count": 62,
   "id": "9f06416b",
   "metadata": {},
   "outputs": [
    {
     "data": {
      "text/plain": [
       "1236"
      ]
     },
     "execution_count": 62,
     "metadata": {},
     "output_type": "execute_result"
    }
   ],
   "source": [
    "len(data)"
   ]
  },
  {
   "cell_type": "code",
   "execution_count": 63,
   "id": "6a13bccd",
   "metadata": {},
   "outputs": [],
   "source": [
    "opn = data[['Open']]"
   ]
  },
  {
   "cell_type": "code",
   "execution_count": 64,
   "id": "a2a9feb4",
   "metadata": {},
   "outputs": [
    {
     "data": {
      "text/plain": [
       "<AxesSubplot:xlabel='Date'>"
      ]
     },
     "execution_count": 64,
     "metadata": {},
     "output_type": "execute_result"
    },
    {
     "data": {
      "image/png": "[encoded data removed]",
      "text/plain": [
       "<Figure size 432x288 with 1 Axes>"
      ]
     },
     "metadata": {
      "needs_background": "light"
     },
     "output_type": "display_data"
    }
   ],
   "source": [
    "opn.plot()"
   ]
  },
  {
   "cell_type": "code",
   "execution_count": 65,
   "id": "f0369ed2",
   "metadata": {},
   "outputs": [],
   "source": [
    "from keras.models import load_model"
   ]
  },
  {
   "cell_type": "code",
   "execution_count": 66,
   "id": "0a57dcff",
   "metadata": {},
   "outputs": [],
   "source": [
    "import matplotlib.pyplot as plt"
   ]
  },
  {
   "cell_type": "code",
   "execution_count": 67,
   "id": "d23539ab",
   "metadata": {},
   "outputs": [],
   "source": [
    "ds = opn.values"
   ]
  },
  {
   "cell_type": "code",
   "execution_count": 68,
   "id": "f2eb6cd5",
   "metadata": {},
   "outputs": [
    {
     "data": {
      "text/plain": [
       "array([[1288.5       ],\n",
       "       [1312.5       ],\n",
       "       [1289.5       ],\n",
       "       ...,\n",
       "       [3304.80004883],\n",
       "       [3315.14990234],\n",
       "       [          nan]])"
      ]
     },
     "execution_count": 68,
     "metadata": {},
     "output_type": "execute_result"
    }
   ],
   "source": [
    "ds"
   ]
  },
  {
   "cell_type": "code",
   "execution_count": 69,
   "id": "e3dd42dc",
   "metadata": {},
   "outputs": [
    {
     "data": {
      "text/plain": [
       "[<matplotlib.lines.Line2D at 0x1560d059880>]"
      ]
     },
     "execution_count": 69,
     "metadata": {},
     "output_type": "execute_result"
    },
    {
     "data": {
      "image/png": "[encoded data removed]",
      "text/plain": [
       "<Figure size 432x288 with 1 Axes>"
      ]
     },
     "metadata": {
      "needs_background": "light"
     },
     "output_type": "display_data"
    }
   ],
   "source": [
    "plt.plot(ds)"
   ]
  },
  {
   "cell_type": "code",
   "execution_count": 70,
   "id": "990bea58",
   "metadata": {},
   "outputs": [],
   "source": [
    "import numpy as np"
   ]
  },
  {
   "cell_type": "code",
   "execution_count": 71,
   "id": "0766c43a",
   "metadata": {},
   "outputs": [],
   "source": [
    "#MinMaxScaler preserves the shape of the original distribution. It doesn't meaningfully change the information embedded in the original data. \n",
    "from sklearn.preprocessing import MinMaxScaler"
   ]
  },
  {
   "cell_type": "code",
   "execution_count": 72,
   "id": "5e11ef9c",
   "metadata": {},
   "outputs": [],
   "source": [
    "#Using MinMaxScaler for normalizing data between 0 & 1\n",
    "normalizer = MinMaxScaler(feature_range=(0,1))\n",
    "ds_scaled = normalizer.fit_transform(np.array(ds).reshape(-1,1))\n"
   ]
  },
  {
   "cell_type": "code",
   "execution_count": 73,
   "id": "0c86f3b7",
   "metadata": {},
   "outputs": [
    {
     "data": {
      "text/plain": [
       "(1236, 1236)"
      ]
     },
     "execution_count": 73,
     "metadata": {},
     "output_type": "execute_result"
    }
   ],
   "source": [
    "len(ds_scaled), len(ds)"
   ]
  },
  {
   "cell_type": "code",
   "execution_count": 74,
   "id": "e95d0dc1",
   "metadata": {},
   "outputs": [],
   "source": [
    "#Defining test and train data sizes\n",
    "train_size = int(len(ds_scaled)*0.70)\n",
    "test_size = len(ds_scaled) - train_size"
   ]
  },
  {
   "cell_type": "code",
   "execution_count": 75,
   "id": "aa6e7363",
   "metadata": {},
   "outputs": [
    {
     "data": {
      "text/plain": [
       "(865, 371)"
      ]
     },
     "execution_count": 75,
     "metadata": {},
     "output_type": "execute_result"
    }
   ],
   "source": [
    "train_size,test_size"
   ]
  },
  {
   "cell_type": "code",
   "execution_count": 76,
   "id": "a26913dc",
   "metadata": {},
   "outputs": [],
   "source": [
    "#Splitting data between train and test\n",
    "ds_train, ds_test = ds_scaled[0:train_size,:], ds_scaled[train_size:len(ds_scaled),:1]"
   ]
  },
  {
   "cell_type": "code",
   "execution_count": 77,
   "id": "d30f9073",
   "metadata": {},
   "outputs": [
    {
     "data": {
      "text/plain": [
       "(865, 371)"
      ]
     },
     "execution_count": 77,
     "metadata": {},
     "output_type": "execute_result"
    }
   ],
   "source": [
    "len(ds_train),len(ds_test)"
   ]
  },
  {
   "cell_type": "code",
   "execution_count": 78,
   "id": "3c85c6a7",
   "metadata": {},
   "outputs": [],
   "source": [
    "#creating dataset in time series for LSTM model \n",
    "#X[100,120,140,160,180] : Y[200]\n",
    "def create_ds(dataset,step):\n",
    "    Xtrain, Ytrain = [], []\n",
    "    for i in range(len(dataset)-step-1):\n",
    "        a = dataset[i:(i+step), 0]\n",
    "        Xtrain.append(a)\n",
    "        Ytrain.append(dataset[i + step, 0])\n",
    "    return np.array(Xtrain), np.array(Ytrain)"
   ]
  },
  {
   "cell_type": "code",
   "execution_count": 79,
   "id": "b457eb26",
   "metadata": {},
   "outputs": [],
   "source": [
    "#Taking 100 days price as one record for training\n",
    "time_stamp = 100\n",
    "X_train, y_train = create_ds(ds_train,time_stamp)\n",
    "X_test, y_test = create_ds(ds_test,time_stamp)"
   ]
  },
  {
   "cell_type": "code",
   "execution_count": 80,
   "id": "13747baf",
   "metadata": {},
   "outputs": [
    {
     "data": {
      "text/plain": [
       "((764, 100), (764,))"
      ]
     },
     "execution_count": 80,
     "metadata": {},
     "output_type": "execute_result"
    }
   ],
   "source": [
    "X_train.shape,y_train.shape"
   ]
  },
  {
   "cell_type": "code",
   "execution_count": 81,
   "id": "563632bb",
   "metadata": {},
   "outputs": [
    {
     "data": {
      "text/plain": [
       "((270, 100), (270,))"
      ]
     },
     "execution_count": 81,
     "metadata": {},
     "output_type": "execute_result"
    }
   ],
   "source": [
    "X_test.shape, y_test.shape"
   ]
  },
  {
   "cell_type": "code",
   "execution_count": 82,
   "id": "216eee30",
   "metadata": {},
   "outputs": [],
   "source": [
    "#Reshaping data to fit into LSTM model\n",
    "X_train = X_train.reshape(X_train.shape[0],X_train.shape[1] , 1)\n",
    "X_test = X_test.reshape(X_test.shape[0],X_test.shape[1] , 1)"
   ]
  },
  {
   "cell_type": "code",
   "execution_count": 83,
   "id": "37f88811",
   "metadata": {},
   "outputs": [],
   "source": [
    "from keras.models import Sequential\n",
    "from keras.layers import Dense, LSTM"
   ]
  },
  {
   "cell_type": "code",
   "execution_count": 84,
   "id": "fa750ad1",
   "metadata": {},
   "outputs": [
    {
     "name": "stdout",
     "output_type": "stream",
     "text": [
      "Model: \"sequential_1\"\n",
      "_________________________________________________________________\n",
      "Layer (type)                 Output Shape              Param #   \n",
      "=================================================================\n",
      "lstm_3 (LSTM)                (None, 100, 50)           10400     \n",
      "_________________________________________________________________\n",
      "lstm_4 (LSTM)                (None, 100, 50)           20200     \n",
      "_________________________________________________________________\n",
      "lstm_5 (LSTM)                (None, 50)                20200     \n",
      "_________________________________________________________________\n",
      "dense_1 (Dense)              (None, 1)                 51        \n",
      "=================================================================\n",
      "Total params: 50,851\n",
      "Trainable params: 50,851\n",
      "Non-trainable params: 0\n",
      "_________________________________________________________________\n"
     ]
    }
   ],
   "source": [
    "#Creating LSTM model using keras\n",
    "model = Sequential()\n",
    "model.add(LSTM(units=50,return_sequences=True,input_shape=(X_train.shape[1],1)))\n",
    "model.add(LSTM(units=50,return_sequences=True))\n",
    "model.add(LSTM(units=50))\n",
    "model.add(Dense(units=1,activation='linear'))\n",
    "model.summary()"
   ]
  },
  {
   "cell_type": "code",
   "execution_count": 85,
   "id": "ace872dd",
   "metadata": {},
   "outputs": [
    {
     "name": "stdout",
     "output_type": "stream",
     "text": [
      "Epoch 1/100\n",
      "12/12 [==============================] - 10s 311ms/step - loss: 0.0196 - val_loss: 0.1135\n",
      "Epoch 2/100\n",
      "12/12 [==============================] - 2s 177ms/step - loss: 0.0040 - val_loss: 0.0207\n",
      "Epoch 3/100\n",
      "12/12 [==============================] - 2s 175ms/step - loss: 0.0025 - val_loss: 0.0231\n",
      "Epoch 4/100\n",
      "12/12 [==============================] - 2s 176ms/step - loss: 0.0015 - val_loss: 0.0164\n",
      "Epoch 5/100\n",
      "12/12 [==============================] - 2s 175ms/step - loss: 0.0012 - val_loss: 0.0054\n",
      "Epoch 6/100\n",
      "12/12 [==============================] - 2s 176ms/step - loss: 0.0011 - val_loss: 0.0045\n",
      "Epoch 7/100\n",
      "12/12 [==============================] - 2s 180ms/step - loss: 0.0011 - val_loss: 0.0039\n",
      "Epoch 8/100\n",
      "12/12 [==============================] - 2s 176ms/step - loss: 0.0011 - val_loss: 0.0040\n",
      "Epoch 9/100\n",
      "12/12 [==============================] - 2s 177ms/step - loss: 0.0011 - val_loss: 0.0039\n",
      "Epoch 10/100\n",
      "12/12 [==============================] - 2s 176ms/step - loss: 0.0011 - val_loss: 0.0028\n",
      "Epoch 11/100\n",
      "12/12 [==============================] - 2s 187ms/step - loss: 0.0010 - val_loss: 0.0037\n",
      "Epoch 12/100\n",
      "12/12 [==============================] - 2s 179ms/step - loss: 9.8423e-04 - val_loss: 0.0020\n",
      "Epoch 13/100\n",
      "12/12 [==============================] - 2s 179ms/step - loss: 0.0011 - val_loss: 0.0020\n",
      "Epoch 14/100\n",
      "12/12 [==============================] - 2s 182ms/step - loss: 0.0011 - val_loss: 0.0047\n",
      "Epoch 15/100\n",
      "12/12 [==============================] - 2s 192ms/step - loss: 0.0010 - val_loss: 0.0038\n",
      "Epoch 16/100\n",
      "12/12 [==============================] - 2s 189ms/step - loss: 9.5169e-04 - val_loss: 0.0026\n",
      "Epoch 17/100\n",
      "12/12 [==============================] - 3s 220ms/step - loss: 8.9283e-04 - val_loss: 0.0018\n",
      "Epoch 18/100\n",
      "12/12 [==============================] - 3s 213ms/step - loss: 9.0414e-04 - val_loss: 0.0020\n",
      "Epoch 19/100\n",
      "12/12 [==============================] - 2s 208ms/step - loss: 9.2299e-04 - val_loss: 0.0055\n",
      "Epoch 20/100\n",
      "12/12 [==============================] - 2s 205ms/step - loss: 8.9476e-04 - val_loss: 0.0016\n",
      "Epoch 21/100\n",
      "12/12 [==============================] - 2s 204ms/step - loss: 8.2787e-04 - val_loss: 0.0017\n",
      "Epoch 22/100\n",
      "12/12 [==============================] - 2s 199ms/step - loss: 7.9076e-04 - val_loss: 0.0037\n",
      "Epoch 23/100\n",
      "12/12 [==============================] - 2s 200ms/step - loss: 7.6616e-04 - val_loss: 0.0065\n",
      "Epoch 24/100\n",
      "12/12 [==============================] - 2s 184ms/step - loss: 7.8108e-04 - val_loss: 0.0037\n",
      "Epoch 25/100\n",
      "12/12 [==============================] - 2s 176ms/step - loss: 7.3861e-04 - val_loss: 0.0023\n",
      "Epoch 26/100\n",
      "12/12 [==============================] - 2s 179ms/step - loss: 7.7586e-04 - val_loss: 0.0016\n",
      "Epoch 27/100\n",
      "12/12 [==============================] - 2s 180ms/step - loss: 7.5106e-04 - val_loss: 0.0058\n",
      "Epoch 28/100\n",
      "12/12 [==============================] - 2s 183ms/step - loss: 7.7547e-04 - val_loss: 0.0024\n",
      "Epoch 29/100\n",
      "12/12 [==============================] - 2s 178ms/step - loss: 6.7933e-04 - val_loss: 0.0030\n",
      "Epoch 30/100\n",
      "12/12 [==============================] - 2s 177ms/step - loss: 6.6522e-04 - val_loss: 0.0031\n",
      "Epoch 31/100\n",
      "12/12 [==============================] - 2s 176ms/step - loss: 6.5416e-04 - val_loss: 0.0028\n",
      "Epoch 32/100\n",
      "12/12 [==============================] - 2s 176ms/step - loss: 6.3679e-04 - val_loss: 0.0055\n",
      "Epoch 33/100\n",
      "12/12 [==============================] - 2s 177ms/step - loss: 6.8149e-04 - val_loss: 9.5870e-04\n",
      "Epoch 34/100\n",
      "12/12 [==============================] - 2s 176ms/step - loss: 6.7409e-04 - val_loss: 0.0019\n",
      "Epoch 35/100\n",
      "12/12 [==============================] - 2s 178ms/step - loss: 6.3394e-04 - val_loss: 0.0016\n",
      "Epoch 36/100\n",
      "12/12 [==============================] - 2s 182ms/step - loss: 6.4283e-04 - val_loss: 0.0011\n",
      "Epoch 37/100\n",
      "12/12 [==============================] - 2s 179ms/step - loss: 6.1525e-04 - val_loss: 0.0014\n",
      "Epoch 38/100\n",
      "12/12 [==============================] - 2s 178ms/step - loss: 5.8356e-04 - val_loss: 8.8888e-04\n",
      "Epoch 39/100\n",
      "12/12 [==============================] - 2s 177ms/step - loss: 5.7294e-04 - val_loss: 0.0043\n",
      "Epoch 40/100\n",
      "12/12 [==============================] - 2s 176ms/step - loss: 6.7318e-04 - val_loss: 0.0016\n",
      "Epoch 41/100\n",
      "12/12 [==============================] - 2s 178ms/step - loss: 6.3647e-04 - val_loss: 8.5683e-04\n",
      "Epoch 42/100\n",
      "12/12 [==============================] - 2s 177ms/step - loss: 6.5565e-04 - val_loss: 0.0033\n",
      "Epoch 43/100\n",
      "12/12 [==============================] - 2s 186ms/step - loss: 6.2932e-04 - val_loss: 9.6833e-04\n",
      "Epoch 44/100\n",
      "12/12 [==============================] - 2s 179ms/step - loss: 6.1651e-04 - val_loss: 7.7974e-04\n",
      "Epoch 45/100\n",
      "12/12 [==============================] - 3s 213ms/step - loss: 5.8486e-04 - val_loss: 0.0018\n",
      "Epoch 46/100\n",
      "12/12 [==============================] - 2s 176ms/step - loss: 5.1154e-04 - val_loss: 0.0015\n",
      "Epoch 47/100\n",
      "12/12 [==============================] - 2s 176ms/step - loss: 5.0908e-04 - val_loss: 0.0017\n",
      "Epoch 48/100\n",
      "12/12 [==============================] - 2s 176ms/step - loss: 5.2635e-04 - val_loss: 7.7534e-04\n",
      "Epoch 49/100\n",
      "12/12 [==============================] - 2s 177ms/step - loss: 5.2709e-04 - val_loss: 0.0035\n",
      "Epoch 50/100\n",
      "12/12 [==============================] - 2s 179ms/step - loss: 5.2163e-04 - val_loss: 0.0015\n",
      "Epoch 51/100\n",
      "12/12 [==============================] - 2s 180ms/step - loss: 5.6616e-04 - val_loss: 0.0012\n",
      "Epoch 52/100\n",
      "12/12 [==============================] - 2s 178ms/step - loss: 5.1016e-04 - val_loss: 0.0010\n",
      "Epoch 53/100\n",
      "12/12 [==============================] - 2s 176ms/step - loss: 4.8031e-04 - val_loss: 6.5102e-04\n",
      "Epoch 54/100\n",
      "12/12 [==============================] - 2s 176ms/step - loss: 4.5412e-04 - val_loss: 0.0022\n",
      "Epoch 55/100\n",
      "12/12 [==============================] - 2s 175ms/step - loss: 4.5993e-04 - val_loss: 6.1782e-04\n",
      "Epoch 56/100\n",
      "12/12 [==============================] - 2s 175ms/step - loss: 4.2675e-04 - val_loss: 7.9915e-04\n",
      "Epoch 57/100\n",
      "12/12 [==============================] - 2s 175ms/step - loss: 5.2902e-04 - val_loss: 0.0021\n",
      "Epoch 58/100\n",
      "12/12 [==============================] - 2s 181ms/step - loss: 4.8155e-04 - val_loss: 6.8521e-04\n",
      "Epoch 59/100\n",
      "12/12 [==============================] - 2s 175ms/step - loss: 4.3670e-04 - val_loss: 0.0011\n",
      "Epoch 60/100\n",
      "12/12 [==============================] - 2s 175ms/step - loss: 4.5091e-04 - val_loss: 0.0012\n",
      "Epoch 61/100\n",
      "12/12 [==============================] - 2s 178ms/step - loss: 4.4584e-04 - val_loss: 0.0015\n",
      "Epoch 62/100\n",
      "12/12 [==============================] - 2s 201ms/step - loss: 4.3943e-04 - val_loss: 8.1560e-04\n",
      "Epoch 63/100\n",
      "12/12 [==============================] - 3s 209ms/step - loss: 3.8448e-04 - val_loss: 6.0900e-04\n",
      "Epoch 64/100\n",
      "12/12 [==============================] - 2s 199ms/step - loss: 3.8410e-04 - val_loss: 5.9443e-04\n",
      "Epoch 65/100\n",
      "12/12 [==============================] - 2s 180ms/step - loss: 3.7356e-04 - val_loss: 5.7452e-04\n",
      "Epoch 66/100\n",
      "12/12 [==============================] - 2s 179ms/step - loss: 3.6943e-04 - val_loss: 6.6338e-04\n",
      "Epoch 67/100\n",
      "12/12 [==============================] - 2s 180ms/step - loss: 3.7572e-04 - val_loss: 5.6162e-04\n",
      "Epoch 68/100\n",
      "12/12 [==============================] - 2s 177ms/step - loss: 3.5556e-04 - val_loss: 6.3831e-04\n",
      "Epoch 69/100\n",
      "12/12 [==============================] - 2s 177ms/step - loss: 3.4406e-04 - val_loss: 5.8673e-04\n",
      "Epoch 70/100\n",
      "12/12 [==============================] - 2s 177ms/step - loss: 3.8214e-04 - val_loss: 6.0674e-04\n",
      "Epoch 71/100\n",
      "12/12 [==============================] - 2s 180ms/step - loss: 3.4693e-04 - val_loss: 5.4846e-04\n",
      "Epoch 72/100\n",
      "12/12 [==============================] - 2s 177ms/step - loss: 3.2649e-04 - val_loss: 0.0015\n",
      "Epoch 73/100\n",
      "12/12 [==============================] - 2s 182ms/step - loss: 3.5964e-04 - val_loss: 7.1937e-04\n",
      "Epoch 74/100\n",
      "12/12 [==============================] - 2s 176ms/step - loss: 3.6715e-04 - val_loss: 5.7656e-04\n",
      "Epoch 75/100\n",
      "12/12 [==============================] - 2s 178ms/step - loss: 3.4514e-04 - val_loss: 9.6168e-04\n",
      "Epoch 76/100\n",
      "12/12 [==============================] - 2s 177ms/step - loss: 3.5428e-04 - val_loss: 7.0582e-04\n",
      "Epoch 77/100\n",
      "12/12 [==============================] - 2s 177ms/step - loss: 3.1759e-04 - val_loss: 6.9703e-04\n"
     ]
    },
    {
     "name": "stdout",
     "output_type": "stream",
     "text": [
      "Epoch 78/100\n",
      "12/12 [==============================] - 2s 176ms/step - loss: 3.2106e-04 - val_loss: 6.2571e-04\n",
      "Epoch 79/100\n",
      "12/12 [==============================] - 2s 179ms/step - loss: 3.3523e-04 - val_loss: 0.0012\n",
      "Epoch 80/100\n",
      "12/12 [==============================] - 2s 180ms/step - loss: 3.6665e-04 - val_loss: 0.0015\n",
      "Epoch 81/100\n",
      "12/12 [==============================] - 2s 179ms/step - loss: 3.2487e-04 - val_loss: 8.8492e-04\n",
      "Epoch 82/100\n",
      "12/12 [==============================] - 2s 175ms/step - loss: 3.0043e-04 - val_loss: 8.6009e-04\n",
      "Epoch 83/100\n",
      "12/12 [==============================] - 2s 176ms/step - loss: 3.0809e-04 - val_loss: 5.7611e-04\n",
      "Epoch 84/100\n",
      "12/12 [==============================] - 2s 175ms/step - loss: 2.9494e-04 - val_loss: 5.4958e-04\n",
      "Epoch 85/100\n",
      "12/12 [==============================] - 2s 175ms/step - loss: 2.7595e-04 - val_loss: 6.2739e-04\n",
      "Epoch 86/100\n",
      "12/12 [==============================] - 2s 175ms/step - loss: 2.6896e-04 - val_loss: 7.5876e-04\n",
      "Epoch 87/100\n",
      "12/12 [==============================] - 2s 182ms/step - loss: 2.6618e-04 - val_loss: 5.5676e-04\n",
      "Epoch 88/100\n",
      "12/12 [==============================] - 2s 188ms/step - loss: 2.7040e-04 - val_loss: 4.7820e-04\n",
      "Epoch 89/100\n",
      "12/12 [==============================] - 2s 177ms/step - loss: 2.8674e-04 - val_loss: 5.0839e-04\n",
      "Epoch 90/100\n",
      "12/12 [==============================] - 2s 176ms/step - loss: 3.1599e-04 - val_loss: 8.5682e-04\n",
      "Epoch 91/100\n",
      "12/12 [==============================] - 2s 177ms/step - loss: 2.9450e-04 - val_loss: 0.0012\n",
      "Epoch 92/100\n",
      "12/12 [==============================] - 2s 176ms/step - loss: 2.8698e-04 - val_loss: 9.0311e-04\n",
      "Epoch 93/100\n",
      "12/12 [==============================] - 2s 180ms/step - loss: 2.9400e-04 - val_loss: 5.7250e-04\n",
      "Epoch 94/100\n",
      "12/12 [==============================] - 2s 192ms/step - loss: 2.7689e-04 - val_loss: 4.5633e-04\n",
      "Epoch 95/100\n",
      "12/12 [==============================] - 2s 180ms/step - loss: 2.5797e-04 - val_loss: 8.6164e-04\n",
      "Epoch 96/100\n",
      "12/12 [==============================] - 2s 180ms/step - loss: 2.5724e-04 - val_loss: 0.0013\n",
      "Epoch 97/100\n",
      "12/12 [==============================] - 2s 178ms/step - loss: 2.9703e-04 - val_loss: 0.0011\n",
      "Epoch 98/100\n",
      "12/12 [==============================] - 2s 178ms/step - loss: 3.1580e-04 - val_loss: 6.2775e-04\n",
      "Epoch 99/100\n",
      "12/12 [==============================] - 2s 176ms/step - loss: 2.7435e-04 - val_loss: 4.6490e-04\n",
      "Epoch 100/100\n",
      "12/12 [==============================] - 2s 178ms/step - loss: 2.6625e-04 - val_loss: 4.5523e-04\n"
     ]
    },
    {
     "data": {
      "text/plain": [
       "<keras.callbacks.History at 0x1560da5deb0>"
      ]
     },
     "execution_count": 85,
     "metadata": {},
     "output_type": "execute_result"
    }
   ],
   "source": [
    "#Training model with adam optimizer and mean squared error loss function\n",
    "model.compile(loss='mean_squared_error',optimizer='adam')\n",
    "model.fit(X_train,y_train,validation_data=(X_test,y_test),epochs=100,batch_size=64)"
   ]
  },
  {
   "cell_type": "code",
   "execution_count": 34,
   "id": "dbbe4e64",
   "metadata": {},
   "outputs": [
    {
     "name": "stderr",
     "output_type": "stream",
     "text": [
      "WARNING:absl:Found untraced functions such as lstm_cell_layer_call_fn, lstm_cell_layer_call_and_return_conditional_losses, lstm_cell_1_layer_call_fn, lstm_cell_1_layer_call_and_return_conditional_losses, lstm_cell_2_layer_call_fn while saving (showing 5 of 15). These functions will not be directly callable after loading.\n"
     ]
    },
    {
     "name": "stdout",
     "output_type": "stream",
     "text": [
      "INFO:tensorflow:Assets written to: keras_model\\assets\n"
     ]
    },
    {
     "name": "stderr",
     "output_type": "stream",
     "text": [
      "INFO:tensorflow:Assets written to: keras_model\\assets\n"
     ]
    }
   ],
   "source": [
    "model.save('keras_model')"
   ]
  },
  {
   "cell_type": "code",
   "execution_count": 86,
   "id": "abd018b1",
   "metadata": {},
   "outputs": [
    {
     "data": {
      "text/plain": [
       "[<matplotlib.lines.Line2D at 0x15609d84f40>]"
      ]
     },
     "execution_count": 86,
     "metadata": {},
     "output_type": "execute_result"
    },
    {
     "data": {
      "image/png": "[encoded data removed]",
      "text/plain": [
       "<Figure size 432x288 with 1 Axes>"
      ]
     },
     "metadata": {
      "needs_background": "light"
     },
     "output_type": "display_data"
    }
   ],
   "source": [
    "loss = model.history.history['loss']\n",
    "plt.plot(loss)"
   ]
  },
  {
   "cell_type": "code",
   "execution_count": 87,
   "id": "6bf06ed1",
   "metadata": {},
   "outputs": [],
   "source": [
    "#Predicitng on train and test data\n",
    "train_predict = model.predict(X_train)\n",
    "test_predict = model.predict(X_test)"
   ]
  },
  {
   "cell_type": "code",
   "execution_count": 88,
   "id": "f6d3f287",
   "metadata": {},
   "outputs": [],
   "source": [
    "#Inverse transform to get actual value\n",
    "train_predict = normalizer.inverse_transform(train_predict)\n",
    "test_predict = normalizer.inverse_transform(test_predict)"
   ]
  },
  {
   "cell_type": "code",
   "execution_count": 89,
   "id": "e45c9980",
   "metadata": {},
   "outputs": [
    {
     "data": {
      "text/plain": [
       "[<matplotlib.lines.Line2D at 0x1560b9961c0>]"
      ]
     },
     "execution_count": 89,
     "metadata": {},
     "output_type": "execute_result"
    },
    {
     "data": {
      "image/png": "[encoded data removed]",
      "text/plain": [
       "<Figure size 432x288 with 1 Axes>"
      ]
     },
     "metadata": {
      "needs_background": "light"
     },
     "output_type": "display_data"
    }
   ],
   "source": [
    "#Comparing using visuals\n",
    "plt.plot(normalizer.inverse_transform(ds_scaled))\n",
    "plt.plot(train_predict)\n",
    "plt.plot(test_predict)"
   ]
  },
  {
   "cell_type": "code",
   "execution_count": 90,
   "id": "8abc9e0c",
   "metadata": {},
   "outputs": [
    {
     "data": {
      "text/plain": [
       "numpy.ndarray"
      ]
     },
     "execution_count": 90,
     "metadata": {},
     "output_type": "execute_result"
    }
   ],
   "source": [
    "type(train_predict)"
   ]
  },
  {
   "cell_type": "code",
   "execution_count": 91,
   "id": "60e5152b",
   "metadata": {},
   "outputs": [],
   "source": [
    "test = np.vstack((train_predict,test_predict))"
   ]
  },
  {
   "cell_type": "code",
   "execution_count": 92,
   "id": "22abad8c",
   "metadata": {},
   "outputs": [
    {
     "data": {
      "text/plain": [
       "[<matplotlib.lines.Line2D at 0x1560bb0a520>]"
      ]
     },
     "execution_count": 92,
     "metadata": {},
     "output_type": "execute_result"
    },
    {
     "data": {
      "image/png": "[encoded data removed]",
      "text/plain": [
       "<Figure size 432x288 with 1 Axes>"
      ]
     },
     "metadata": {
      "needs_background": "light"
     },
     "output_type": "display_data"
    }
   ],
   "source": [
    "#Combining the predited data to create uniform data visualization\n",
    "plt.plot(normalizer.inverse_transform(ds_scaled))\n",
    "plt.plot(test)"
   ]
  },
  {
   "cell_type": "code",
   "execution_count": 93,
   "id": "04406bc4",
   "metadata": {},
   "outputs": [
    {
     "data": {
      "text/plain": [
       "371"
      ]
     },
     "execution_count": 93,
     "metadata": {},
     "output_type": "execute_result"
    }
   ],
   "source": [
    "len(ds_test)"
   ]
  },
  {
   "cell_type": "code",
   "execution_count": 94,
   "id": "dd78d9d9",
   "metadata": {},
   "outputs": [],
   "source": [
    "a=len(ds_test)"
   ]
  },
  {
   "cell_type": "code",
   "execution_count": 95,
   "id": "768ac30e",
   "metadata": {},
   "outputs": [
    {
     "data": {
      "text/plain": [
       "371"
      ]
     },
     "execution_count": 95,
     "metadata": {},
     "output_type": "execute_result"
    }
   ],
   "source": [
    "a"
   ]
  },
  {
   "cell_type": "code",
   "execution_count": 96,
   "id": "b12bf5d4",
   "metadata": {},
   "outputs": [],
   "source": [
    "b=a-100"
   ]
  },
  {
   "cell_type": "code",
   "execution_count": 97,
   "id": "a224b6ab",
   "metadata": {},
   "outputs": [
    {
     "data": {
      "text/plain": [
       "271"
      ]
     },
     "execution_count": 97,
     "metadata": {},
     "output_type": "execute_result"
    }
   ],
   "source": [
    "b"
   ]
  },
  {
   "cell_type": "code",
   "execution_count": 98,
   "id": "6b4afcd6",
   "metadata": {},
   "outputs": [],
   "source": [
    "fut_inp = ds_test[b:]"
   ]
  },
  {
   "cell_type": "code",
   "execution_count": 99,
   "id": "415f0617",
   "metadata": {},
   "outputs": [],
   "source": [
    "fut_inp = fut_inp.reshape(1,-1)"
   ]
  },
  {
   "cell_type": "code",
   "execution_count": 100,
   "id": "0a627bc2",
   "metadata": {},
   "outputs": [],
   "source": [
    "fut_inp = fut_inp.reshape(1,-1)"
   ]
  },
  {
   "cell_type": "code",
   "execution_count": 101,
   "id": "850b8f35",
   "metadata": {},
   "outputs": [],
   "source": [
    "tmp_inp = list(fut_inp)"
   ]
  },
  {
   "cell_type": "code",
   "execution_count": 102,
   "id": "34bf8cff",
   "metadata": {},
   "outputs": [
    {
     "data": {
      "text/plain": [
       "(1, 100)"
      ]
     },
     "execution_count": 102,
     "metadata": {},
     "output_type": "execute_result"
    }
   ],
   "source": [
    "fut_inp.shape"
   ]
  },
  {
   "cell_type": "code",
   "execution_count": 103,
   "id": "23d480ef",
   "metadata": {},
   "outputs": [],
   "source": [
    "#Creating list of the last 100 data\n",
    "tmp_inp = tmp_inp[0].tolist()"
   ]
  },
  {
   "cell_type": "code",
   "execution_count": 104,
   "id": "29b2c79a",
   "metadata": {},
   "outputs": [
    {
     "name": "stdout",
     "output_type": "stream",
     "text": [
      "[[nan], [nan], [nan], [nan], [nan]]\n"
     ]
    }
   ],
   "source": [
    "#Predicting next 30 days price suing the current data\n",
    "#It will predict in sliding window manner (algorithm) with stride 1\n",
    "lst_output=[]\n",
    "n_steps=100\n",
    "i=0\n",
    "while(i<5):\n",
    "    \n",
    "    if(len(tmp_inp)>100):\n",
    "        fut_inp = np.array(tmp_inp[1:])\n",
    "        fut_inp=fut_inp.reshape(1,-1)\n",
    "        fut_inp = fut_inp.reshape((1, n_steps, 1))\n",
    "        yhat = model.predict(fut_inp, verbose=0)\n",
    "        tmp_inp.extend(yhat[0].tolist())\n",
    "        tmp_inp = tmp_inp[1:]\n",
    "        lst_output.extend(yhat.tolist())\n",
    "        i=i+1\n",
    "    else:\n",
    "        fut_inp = fut_inp.reshape((1, n_steps,1))\n",
    "        yhat = model.predict(fut_inp, verbose=0)\n",
    "        tmp_inp.extend(yhat[0].tolist())\n",
    "        lst_output.extend(yhat.tolist())\n",
    "        i=i+1\n",
    "    \n",
    "\n",
    "print(lst_output)"
   ]
  },
  {
   "cell_type": "code",
   "execution_count": 105,
   "id": "18e5b473",
   "metadata": {},
   "outputs": [
    {
     "data": {
      "text/plain": [
       "1236"
      ]
     },
     "execution_count": 105,
     "metadata": {},
     "output_type": "execute_result"
    }
   ],
   "source": [
    "len(ds_scaled)"
   ]
  },
  {
   "cell_type": "code",
   "execution_count": 106,
   "id": "12653112",
   "metadata": {},
   "outputs": [],
   "source": [
    "lenth_of_ds_scaled=len(ds_scaled)-100"
   ]
  },
  {
   "cell_type": "code",
   "execution_count": 107,
   "id": "614e80bd",
   "metadata": {},
   "outputs": [
    {
     "data": {
      "text/plain": [
       "1136"
      ]
     },
     "execution_count": 107,
     "metadata": {},
     "output_type": "execute_result"
    }
   ],
   "source": [
    "lenth_of_ds_scaled"
   ]
  },
  {
   "cell_type": "code",
   "execution_count": 108,
   "id": "121b74f9",
   "metadata": {},
   "outputs": [],
   "source": [
    "#Creating a dummy plane to plot graph one after another\n",
    "plot_new=np.arange(1,101)\n",
    "plot_pred=np.arange(101,106)"
   ]
  },
  {
   "cell_type": "code",
   "execution_count": 109,
   "id": "b52222a0",
   "metadata": {},
   "outputs": [
    {
     "data": {
      "text/plain": [
       "[<matplotlib.lines.Line2D at 0x1560bd3cd30>]"
      ]
     },
     "execution_count": 109,
     "metadata": {},
     "output_type": "execute_result"
    },
    {
     "data": {
      "image/png": "[encoded data removed]",
      "text/plain": [
       "<Figure size 432x288 with 1 Axes>"
      ]
     },
     "metadata": {
      "needs_background": "light"
     },
     "output_type": "display_data"
    }
   ],
   "source": [
    "plt.plot(plot_new, normalizer.inverse_transform(ds_scaled[lenth_of_ds_scaled:]))\n",
    "plt.plot(plot_pred, normalizer.inverse_transform(lst_output))"
   ]
  },
  {
   "cell_type": "code",
   "execution_count": 110,
   "id": "21fcb665",
   "metadata": {},
   "outputs": [
    {
     "data": {
      "text/plain": [
       "1236"
      ]
     },
     "execution_count": 110,
     "metadata": {},
     "output_type": "execute_result"
    }
   ],
   "source": [
    "ds_new = ds_scaled.tolist()\n",
    "len(ds_new)"
   ]
  },
  {
   "cell_type": "code",
   "execution_count": 111,
   "id": "9f77a11d",
   "metadata": {},
   "outputs": [
    {
     "data": {
      "text/plain": [
       "[<matplotlib.lines.Line2D at 0x1560bbc0790>]"
      ]
     },
     "execution_count": 111,
     "metadata": {},
     "output_type": "execute_result"
    },
    {
     "data": {
      "image/png": "[encoded data removed]",
      "text/plain": [
       "<Figure size 432x288 with 1 Axes>"
      ]
     },
     "metadata": {
      "needs_background": "light"
     },
     "output_type": "display_data"
    }
   ],
   "source": [
    "#Entends helps us to fill the missing value with approx value\n",
    "ds_new.extend(lst_output)\n",
    "plt.plot(ds_new[1200:])"
   ]
  },
  {
   "cell_type": "code",
   "execution_count": 112,
   "id": "b104d116",
   "metadata": {},
   "outputs": [],
   "source": [
    "#Creating final data for plotting\n",
    "final_graph = normalizer.inverse_transform(ds_new).tolist()"
   ]
  },
  {
   "cell_type": "code",
   "execution_count": 113,
   "id": "bc0aa9d1",
   "metadata": {},
   "outputs": [
    {
     "data": {
      "text/plain": [
       "<matplotlib.legend.Legend at 0x1560bec8d60>"
      ]
     },
     "execution_count": 113,
     "metadata": {},
     "output_type": "execute_result"
    },
    {
     "data": {
      "image/png": "[encoded data removed]",
      "text/plain": [
       "<Figure size 432x288 with 1 Axes>"
      ]
     },
     "metadata": {
      "needs_background": "light"
     },
     "output_type": "display_data"
    }
   ],
   "source": [
    "#Plotting final results with predicted value after 5 Days\n",
    "plt.plot(final_graph,)\n",
    "plt.ylabel(\"Price\")\n",
    "plt.xlabel(\"Time\")\n",
    "plt.title(\"{0} prediction of next 5 days open\".format(stock_symbol))\n",
    "plt.axhline(y=final_graph[len(final_graph)-1], color = 'red', linestyle = ':', label = 'NEXT 5D: {0}'.format(round(float(*final_graph[len(final_graph)-1]),2)))\n",
    "plt.legend()"
   ]
  },
  {
   "cell_type": "code",
   "execution_count": null,
   "id": "cabf83d2",
   "metadata": {},
   "outputs": [],
   "source": []
  }
 ],
 "metadata": {
  "kernelspec": {
   "display_name": "newenvi",
   "language": "python",
   "name": "newenvi"
  },
  "language_info": {
   "codemirror_mode": {
    "name": "ipython",
    "version": 3
   },
   "file_extension": ".py",
   "mimetype": "text/x-python",
   "name": "python",
   "nbconvert_exporter": "python",
   "pygments_lexer": "ipython3",
   "version": "3.9.12"
  }
 },
 "nbformat": 4,
 "nbformat_minor": 5
}
